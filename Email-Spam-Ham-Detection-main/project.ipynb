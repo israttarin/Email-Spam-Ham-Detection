{
 "cells": [
  {
   "cell_type": "code",
   "execution_count": 395,
   "metadata": {
    "scrolled": true
   },
   "outputs": [],
   "source": [
    "import pandas as pd\n",
    "from sklearn.metrics import confusion_matrix\n",
    "from sklearn import metrics\n",
    "import math"
   ]
  },
  {
   "cell_type": "markdown",
   "metadata": {},
   "source": [
    "# Train_data and Test_data"
   ]
  },
  {
   "cell_type": "code",
   "execution_count": 396,
   "metadata": {},
   "outputs": [
    {
     "name": "stdout",
     "output_type": "stream",
     "text": [
      "5575\n"
     ]
    }
   ],
   "source": [
    "data_file=pd.read_csv('spam.csv')\n",
    "#print(data_file)\n",
    "x = data_file[\"EmailText\"]\n",
    "y = data_file[\"Label\"]\n",
    "\n",
    "for i in range(len(x)):\n",
    "    st=''\n",
    "    #print(x[i])\n",
    "    for j in x[i]:\n",
    "        if (j==' ' or (j>='a' and j<='z') or (j>='A' and j<='Z') or (j>='0' and j<='9')):\n",
    "            st+=j;\n",
    "    #print(st)\n",
    "    x[i]=st \n",
    "print(len(x))\n",
    "\n",
    "x_train,y_train = x[0:3500],y[0:3500]\n",
    "x_test,y_test = x[3500:],y[3500:]\n",
    "\n",
    "#print(len(x_train))\n",
    "#print(y_train)"
   ]
  },
  {
   "cell_type": "markdown",
   "metadata": {},
   "source": [
    "# Naive Bayes Algorithm"
   ]
  },
  {
   "cell_type": "code",
   "execution_count": 397,
   "metadata": {},
   "outputs": [],
   "source": [
    "y_train=data_file.Label;\n",
    "x_train=data_file.EmailText;\n",
    "#print(x)\n",
    "#print(y)\n",
    "\n",
    "spam=[]\n",
    "ham=[]\n",
    "for i,j in zip(x_train,y_train):\n",
    "    if (j=='ham'):\n",
    "        ham.append(i)\n",
    "    else :\n",
    "        spam.append(i)\n",
    "#print(spam)\n",
    "#print(ham)\n"
   ]
  },
  {
   "cell_type": "code",
   "execution_count": 398,
   "metadata": {},
   "outputs": [
    {
     "name": "stdout",
     "output_type": "stream",
     "text": [
      "748 4827 5575\n"
     ]
    }
   ],
   "source": [
    "spam_len=len(spam)\n",
    "ham_len=len(ham)\n",
    "c=spam.copy()\n",
    "c.extend(ham)\n",
    "total_len=len(c)\n",
    "print(spam_len,ham_len,total_len)"
   ]
  },
  {
   "cell_type": "code",
   "execution_count": 399,
   "metadata": {},
   "outputs": [
    {
     "name": "stdout",
     "output_type": "stream",
     "text": [
      "86759 17851 68908\n"
     ]
    }
   ],
   "source": [
    "total={}\n",
    "spam_c={}\n",
    "ham_c={}\n",
    "\n",
    "for i in spam:\n",
    "    for j in i.split(' '):\n",
    "            if j in spam_c:\n",
    "                spam_c[j]+=1\n",
    "            else:\n",
    "                spam_c[j]=1\n",
    "\n",
    "for i in ham:\n",
    "    for j in i.split(' '):\n",
    "            if j in ham_c:\n",
    "                ham_c[j]+=1\n",
    "            else:\n",
    "                ham_c[j]=1\n",
    "\n",
    "\n",
    "for i in c:\n",
    "    for j in i.split(' '):\n",
    "            if j in total:\n",
    "                total[j]+=1\n",
    "            else:\n",
    "                total[j]=1\n",
    "            \n",
    "#print(total,\"\\n\\n\\n\")\n",
    "\n",
    "#print(spam_c,\"\\n\\n\\n\")\n",
    "#print(ham_c,\"\\n\\n\\n\")\n",
    "\n",
    "total_sum=sum(total.values())\n",
    "spam_sum=sum(spam_c.values())\n",
    "ham_sum=sum(ham_c.values())\n",
    "print(total_sum,spam_sum,ham_sum)"
   ]
  },
  {
   "cell_type": "code",
   "execution_count": 400,
   "metadata": {},
   "outputs": [
    {
     "name": "stdout",
     "output_type": "stream",
     "text": [
      "0.13417040358744395 0.8658295964125561 \n",
      "\n"
     ]
    }
   ],
   "source": [
    "p_spam=spam_len/total_len\n",
    "p_ham=ham_len/total_len\n",
    "print(p_spam,p_ham,\"\\n\")"
   ]
  },
  {
   "cell_type": "code",
   "execution_count": 401,
   "metadata": {},
   "outputs": [],
   "source": [
    "total_probability={}\n",
    "spam_probability={}\n",
    "ham_probability={}\n",
    "\n",
    "for i,j in total.items():\n",
    "    total_probability[i]=(j+1)/(total_sum+2)\n",
    "\n",
    "#print(total_probability,\"\\n\")\n",
    "for i,j in total_probability.items():\n",
    "        if(j==0):\n",
    "            print(i)\n"
   ]
  },
  {
   "cell_type": "code",
   "execution_count": 402,
   "metadata": {},
   "outputs": [],
   "source": [
    "for i,j in spam_c.items():\n",
    "    spam_probability[i]=(j+1)/(spam_sum+2)\n",
    "\n",
    "#print(spam_probability,\"\\n\")\n",
    "for i,j in spam_probability.items():\n",
    "        if(j==0):\n",
    "            print(i)"
   ]
  },
  {
   "cell_type": "code",
   "execution_count": 403,
   "metadata": {},
   "outputs": [],
   "source": [
    "for i,j in ham_c.items():\n",
    "    ham_probability[i]=(j+1)/(ham_sum+2)\n",
    "\n",
    "#print(ham_probability,\"\\n\")\n",
    "for i,j in spam_probability.items():\n",
    "        if(j==0):\n",
    "            print(i)"
   ]
  },
  {
   "cell_type": "code",
   "execution_count": 404,
   "metadata": {},
   "outputs": [],
   "source": [
    "def test(Q):\n",
    "    Q2=Q\n",
    "    spam_p_up=1\n",
    "    spam_p_down=1\n",
    "    pam_p_ans=1\n",
    "    for i in Q.split(' '):\n",
    "        if i in spam_probability:\n",
    "            spam_p_up*=spam_probability[i]\n",
    "            spam_p_down*=total_probability[i]\n",
    "        else:\n",
    "            spam_p_up*=(1/(spam_sum+2));\n",
    "            spam_p_down*=(1/(total_sum+2));\n",
    "    spam_p_up*=p_spam\n",
    "    #print(spam_p_down)\n",
    "    #print(Q)\n",
    "    spam_p_ans=spam_p_up/spam_p_down;\n",
    "    \n",
    "    #print(\"spam-> \",spam_p_ans,\"\\n\")\n",
    "\n",
    "    ham_p_up=1\n",
    "    ham_p_down=1\n",
    "    for i in Q2.split(' '):\n",
    "        if i in ham_probability:\n",
    "            ham_p_up*=ham_probability[i]\n",
    "            ham_p_down*=total_probability[i]\n",
    "        else:\n",
    "            ham_p_up*=(1/(ham_sum+2));\n",
    "            ham_p_down*=(1/(total_sum+2));\n",
    "    ham_p_up*=p_ham\n",
    "    ham_p_ans=ham_p_up/ham_p_down;\n",
    "    #print(\"ham-> \",ham_p_ans,\"\\n\")\n",
    "\n",
    "    sp=((spam_p_ans/(ham_p_ans+spam_p_ans))*100);\n",
    "    hm=((ham_p_ans/(ham_p_ans+spam_p_ans))*100);\n",
    "    #print(sp,\"%\",\"\\n\")\n",
    "    #print(hm,\"%\",\"\\n\")\n",
    "\n",
    "    if(sp>=hm):\n",
    "        return('spam')\n",
    "        #print(\"this sentence is Spam : \",end=\"\")\n",
    "        #print(round(sp),\"%\",\"\\n\")\n",
    "    elif(hm>sp):\n",
    "        return('ham')\n",
    "        #print(\"this sentence is Ham : \",end=\"\")\n",
    "        #print(round(hm),\"%\",\"\\n\")"
   ]
  },
  {
   "cell_type": "markdown",
   "metadata": {},
   "source": [
    "# Accuracy"
   ]
  },
  {
   "cell_type": "code",
   "execution_count": 405,
   "metadata": {
    "scrolled": true
   },
   "outputs": [
    {
     "name": "stdout",
     "output_type": "stream",
     "text": [
      "accuracy 71 %\n"
     ]
    }
   ],
   "source": [
    "y_pre=[]\n",
    "for i in x_test:\n",
    "    ss=test(i)\n",
    "    y_pre.append(ss)\n",
    "#print(y_pre)\n",
    "#print(y_test)\n",
    "\n",
    "#print(metrics.accuracy_score(y_test,y_pre))\n",
    "print('accuracy',math.ceil(metrics.accuracy_score(y_test,y_pre)*100),'%')\n"
   ]
  },
  {
   "cell_type": "markdown",
   "metadata": {},
   "source": [
    "# Query_Test"
   ]
  },
  {
   "cell_type": "code",
   "execution_count": 393,
   "metadata": {},
   "outputs": [],
   "source": [
    "def query(sst):\n",
    "    st=''\n",
    "    for j in sst:\n",
    "            if (j==' ' or (j>='a' and j<='z') or (j>='A' and j<='Z') or (j>='0' and j<='9')):\n",
    "                st+=j;\n",
    "        #print(st)\n",
    "    ss=test(st) \n",
    "    print(ss)"
   ]
  },
  {
   "cell_type": "code",
   "execution_count": 394,
   "metadata": {},
   "outputs": [
    {
     "name": "stdout",
     "output_type": "stream",
     "text": [
      "spam\n"
     ]
    }
   ],
   "source": [
    "test_data=\"100 dating service cal;l 09064012103 box334sk38ch\"\n",
    "query(test_data)"
   ]
  },
  {
   "cell_type": "code",
   "execution_count": null,
   "metadata": {},
   "outputs": [],
   "source": []
  }
 ],
 "metadata": {
  "kernelspec": {
   "display_name": "Python 3",
   "language": "python",
   "name": "python3"
  },
  "language_info": {
   "codemirror_mode": {
    "name": "ipython",
    "version": 3
   },
   "file_extension": ".py",
   "mimetype": "text/x-python",
   "name": "python",
   "nbconvert_exporter": "python",
   "pygments_lexer": "ipython3",
   "version": "3.7.3"
  }
 },
 "nbformat": 4,
 "nbformat_minor": 2
}
